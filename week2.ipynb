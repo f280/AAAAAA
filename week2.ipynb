{
    "cells": [
        {
            "metadata": {
                "collapsed": true
            },
            "cell_type": "markdown",
            "source": "## A description of the problem and a discussion of the background"
        },
        {
            "metadata": {},
            "cell_type": "markdown",
            "source": "In an effort to reduce the frequency of car collisions in a community, an algorithim will be developed to predict the severity of an accident given the current weather, road and visibility conditions. When conditions are bad, the driver will be alerted to be more creaful and pay extra attention to the weather or road. "
        },
        {
            "metadata": {},
            "cell_type": "markdown",
            "source": "## A description of the data and how it will be used to solve the problem"
        },
        {
            "metadata": {},
            "cell_type": "markdown",
            "source": "The data will be used is the severity of car accidents in Seattle. \nFirst analyse on what types of traffic collisions are most likely to result in injury. \nThe method will be use: \nPandas and NumPy to import the data and do the data cleaning \nK-Nearest Neighbor (KNN)\nDecision Tree \nLogistic Regression\n"
        }
    ],
    "metadata": {
        "kernelspec": {
            "name": "python3",
            "display_name": "Python 3.6",
            "language": "python"
        },
        "language_info": {
            "name": "python",
            "version": "3.6.9",
            "mimetype": "text/x-python",
            "codemirror_mode": {
                "name": "ipython",
                "version": 3
            },
            "pygments_lexer": "ipython3",
            "nbconvert_exporter": "python",
            "file_extension": ".py"
        }
    },
    "nbformat": 4,
    "nbformat_minor": 1
}